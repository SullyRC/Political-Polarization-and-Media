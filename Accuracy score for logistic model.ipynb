{
 "cells": [
  {
   "cell_type": "markdown",
   "id": "fb8b2c90",
   "metadata": {},
   "source": [
    "I would imagine this uses a lot of memory, but I am running this on my beefy pc so it is fine. There are better ways to optimize this for memory usage. For example, Storing one dataframe as opposed to 4 would require less memory and this could be achieved by dropping the features in df that I'm not using, but I'm lazy and stupid so here we are."
   ]
  },
  {
   "cell_type": "code",
   "execution_count": 1,
   "id": "a3f6b28d",
   "metadata": {},
   "outputs": [],
   "source": [
    "# import statements\n",
    "import pandas as pd\n",
    "import numpy as np\n",
    "from sklearn.linear_model import LogisticRegression\n",
    "from sklearn.model_selection import train_test_split"
   ]
  },
  {
   "cell_type": "code",
   "execution_count": 2,
   "id": "fe4df6b4",
   "metadata": {},
   "outputs": [],
   "source": [
    "#read in our csv and get our data frames\n",
    "df = pd.read_csv(\"dataforsklearn.csv\")\n",
    "Polar = df[['Polar','education_scale','national','tv_Polar','social_media','Male','White','Black',\n",
    "           'Hisp','Asian']]\n",
    "Dem = df[['Dem','education_scale','national','tv_station_CNN','tv_station_MSNBC','social_media','Male','White','Black',\n",
    "           'Hisp','Asian']]\n",
    "Rep = df[['Rep','education_scale','national','tv_station_FOX','social_media','Male','White','Black',\n",
    "           'Hisp','Asian']]"
   ]
  },
  {
   "cell_type": "code",
   "execution_count": 3,
   "id": "509eb494",
   "metadata": {},
   "outputs": [],
   "source": [
    "#Creating function for accuracy\n",
    "def getAccuracy(x,y,z):\n",
    "    X_train, X_test, y_train, y_test = train_test_split(x.drop(y,axis = 1),x[y])\n",
    "    LogReg = LogisticRegression()\n",
    "    LogReg.fit(X_train,y_train)\n",
    "    z.append(LogReg.score(X_test,y_test))"
   ]
  },
  {
   "cell_type": "code",
   "execution_count": 4,
   "id": "2e26c173",
   "metadata": {},
   "outputs": [],
   "source": [
    "#This while loop runs 20 logistic regressions for each dataframe and tests their accuracy, stores them in list\n",
    "x = 1\n",
    "Polar_accuracy = []\n",
    "Dem_accuracy = []\n",
    "Rep_accuracy = []\n",
    "while x <= 20:\n",
    "    getAccuracy(Polar,'Polar',Polar_accuracy)\n",
    "    getAccuracy(Dem,'Dem',Dem_accuracy)\n",
    "    getAccuracy(Rep,'Rep',Rep_accuracy)\n",
    "    x += 1"
   ]
  },
  {
   "cell_type": "code",
   "execution_count": 5,
   "id": "3c868f2c",
   "metadata": {},
   "outputs": [
    {
     "name": "stdout",
     "output_type": "stream",
     "text": [
      "(0.5945573770491803, 0.6087213114754099)\n",
      "(0.7468852459016393, 0.7587540983606558)\n",
      "(0.8278032786885245, 0.8373114754098361)\n"
     ]
    }
   ],
   "source": [
    "Polar_acc = (min(Polar_accuracy),max(Polar_accuracy))\n",
    "Dem_acc = (min(Dem_accuracy),max(Dem_accuracy))\n",
    "Rep_acc = (min(Rep_accuracy),max(Rep_accuracy))\n",
    "print(Polar_acc)\n",
    "print(Dem_acc)\n",
    "print(Rep_acc)"
   ]
  },
  {
   "cell_type": "code",
   "execution_count": null,
   "id": "e5e0f37f",
   "metadata": {},
   "outputs": [],
   "source": []
  }
 ],
 "metadata": {
  "kernelspec": {
   "display_name": "Python 3",
   "language": "python",
   "name": "python3"
  },
  "language_info": {
   "codemirror_mode": {
    "name": "ipython",
    "version": 3
   },
   "file_extension": ".py",
   "mimetype": "text/x-python",
   "name": "python",
   "nbconvert_exporter": "python",
   "pygments_lexer": "ipython3",
   "version": "3.8.8"
  }
 },
 "nbformat": 4,
 "nbformat_minor": 5
}
